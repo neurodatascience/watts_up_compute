{
 "metadata": {
  "language_info": {
   "codemirror_mode": {
    "name": "ipython",
    "version": 3
   },
   "file_extension": ".py",
   "mimetype": "text/x-python",
   "name": "python",
   "nbconvert_exporter": "python",
   "pygments_lexer": "ipython3",
   "version": "3.7.9"
  },
  "orig_nbformat": 2,
  "kernelspec": {
   "name": "python379jvsc74a57bd0e5f8cee7ddba11edeefb1347c6536a4ac2b361bd4eba89a8b32d7cb85bbef9ea",
   "display_name": "Python 3.7.9 64-bit ('green_compute': conda)"
  }
 },
 "nbformat": 4,
 "nbformat_minor": 2,
 "cells": [
  {
   "source": [
    "# Dashboard to look at impact tracker results for various experiment sets\n",
    "\n",
    "## Datasets\n",
    "- ukb pilot [cohort](https://github.com/neurodatascience/watts_up_compute/blob/impact_tracker/subject_lists/ukb_pilot_subjects.csv)\n",
    "\n",
    "## Pipelines\n",
    "- FreeSurfer: recon-all (1,2,3 stages)\n",
    "- FastSurfer: FastSurferCNN (volumetric segmentation)\n",
    "\n",
    "## Monitoring metrics\n",
    "- experiment duration in hours\n",
    "- power consumption in kWh (kilo-watt-hours) "
   ],
   "cell_type": "markdown",
   "metadata": {}
  },
  {
   "cell_type": "code",
   "execution_count": null,
   "metadata": {},
   "outputs": [],
   "source": [
    "import sys\n",
    "import numpy as np\n",
    "import pandas as pd\n",
    "\n",
    "import matplotlib.pyplot as plt\n",
    "import seaborn as sns\n",
    "\n",
    "sys.path.append('../../')\n",
    "sys.path.append('../')\n",
    "sys.path.append('../../experiment-impact-tracker/')\n",
    "\n",
    "from experiment_impact_tracker.data_interface import DataInterface\n",
    "from experiment_impact_tracker.data_utils import *\n",
    "from experiment_impact_tracker.data_utils import (load_data_into_frame,\n",
    "                                                  load_initial_info,\n",
    "                                                  zip_data_and_info)\n",
    "\n",
    "from lib.dashboard_utils import *"
   ]
  },
  {
   "cell_type": "code",
   "execution_count": null,
   "metadata": {},
   "outputs": [],
   "source": [
    "project_dir = '../'\n",
    "fastsurfer_exp_dir = '{}/FastSurfer_experiments/'.format(project_dir)\n",
    "preproc_exp_dir = '{}/preproc_pipeline_experiments/'.format(project_dir)\n",
    "fastsurfer_results_dir = '{}results/exp_impact_tracker/'.format(fastsurfer_exp_dir)\n",
    "preproc_results_dir = '{}results/exp_impact_tracker/'.format(preproc_exp_dir)\n",
    "subject_lists = '{}subject_lists/ukb_pilot_subjects.csv'.format(project_dir)"
   ]
  },
  {
   "source": [
    "### Custom set of trial expeirments"
   ],
   "cell_type": "markdown",
   "metadata": {}
  },
  {
   "cell_type": "code",
   "execution_count": null,
   "metadata": {},
   "outputs": [],
   "source": [
    "experiment_dict = {\n",
    "                   'FastSurfer_local_cpu':('{}/track_sub_000_benchmark/'.format(fastsurfer_results_dir),False), \n",
    "                   'FastSurfer_CC_cpu':('{}/CC_cpu_test/'.format(fastsurfer_results_dir),False),\n",
    "                   'FastSurfer_CC_gpu':('{}/CC_gpu_test/'.format(fastsurfer_results_dir),True),\n",
    "                   'autorecon1_local_test_1':('{}/ReconAll_test_local_cpu/'.format(preproc_results_dir),False),\n",
    "                   'autorecon2-3_local_test_1':('{}/ReconAll_test_location_override/'.format(preproc_results_dir),False),\n",
    "                   'autorecon1_CC_test_1':('{}/ReconAll_test_CC_cpu/'.format(preproc_results_dir),False),\n",
    "                   'autorecon1_CC_ukb_1':('{}/ReconAll_ukb_CC_cpu/'.format(preproc_results_dir),False)\n",
    "                   }\n",
    "\n",
    "read_flops = True\n",
    "\n",
    "power_df_concat = pd.DataFrame()\n",
    "flops_df_concat = pd.DataFrame()\n",
    "tracker_summary_df_concat = pd.DataFrame()\n",
    "\n",
    "for k,v in experiment_dict.items():\n",
    "    power_df, flops_df, tracker_summary_df = get_tracker_data(k, v[0], v[1], read_flops)\n",
    "    power_df_concat = power_df_concat.append(power_df)\n",
    "    flops_df_concat = flops_df_concat.append(flops_df)\n",
    "    tracker_summary_df_concat = tracker_summary_df_concat.append(tracker_summary_df)\n",
    "    \n"
   ]
  },
  {
   "cell_type": "code",
   "execution_count": null,
   "metadata": {},
   "outputs": [],
   "source": [
    "exp_set = 'trial_runs'\n",
    "cpu_info_df = pd.DataFrame(columns=['experiment_set','experiment_name','brand','usable_cpus'])\n",
    "i = 0\n",
    "for exp_name,exp_config in experiment_dict.items():\n",
    "    tracker_log_dir = exp_config[0] \n",
    "    info = load_initial_info(tracker_log_dir)\n",
    "    usable_cpus = info['cpu_info']['usable_cpus']\n",
    "    brand = info['cpu_info']['brand_raw']\n",
    "    cpu_info_df.loc[i] = [exp_set,exp_name,brand,usable_cpus]\n",
    "    i = i + 1\n",
    "    \n",
    "cpu_info_df"
   ]
  },
  {
   "cell_type": "code",
   "execution_count": null,
   "metadata": {},
   "outputs": [],
   "source": [
    "plot_df = tracker_summary_df_concat.copy()\n",
    "plot_df['total_duration (s)'] = plot_df['total_duration_impact_tracker'] * 3600\n",
    "plot_df['total_power (watt-hr)'] = plot_df['total_power'] * 1000\n",
    "plot_df['avg_power (watts)'] = 1000 * plot_df['total_power'] / plot_df['total_duration_impact_tracker'] \n",
    "\n",
    "sns.set(font_scale = 1.5)\n",
    "with sns.axes_style(\"whitegrid\"):\n",
    "    fig, axes = plt.subplots(1,3, figsize=(24,8),sharex=False,sharey=False)\n",
    "    ax = axes[0]\n",
    "    g = sns.scatterplot(y='total_power (watt-hr)', x='total_duration (s)', hue='experiment_name', s=100, data=plot_df, ax=ax)\n",
    "    # g.set(xscale='log',yscale='log') \n",
    "    g.legend(fontsize=12)\n",
    "\n",
    "    ax = axes[1]\n",
    "    g = sns.barplot(y='avg_power (watts)', x='experiment_name', data=plot_df, ax=ax)\n",
    "    g.set_xticklabels(g.get_xticklabels(),rotation=50,fontsize=12)\n",
    "\n",
    "    ax = axes[2]\n",
    "    plot_df = flops_df_concat.copy()\n",
    "    g = sns.scatterplot(y='power', x='DP', hue='experiment_name', style='task', s=100, data=plot_df, ax=ax)\n",
    "    g.set(xscale='log',yscale='log') \n",
    "    g.legend(fontsize=12)"
   ]
  },
  {
   "source": [
    "### UKB pilot experiment sets\n",
    "- recon-all \n",
    "- fastsurfer\n",
    "    - pruning_{0,25,50}\n",
    "    - gpu/cpu"
   ],
   "cell_type": "markdown",
   "metadata": {}
  },
  {
   "cell_type": "code",
   "execution_count": 3,
   "metadata": {},
   "outputs": [
    {
     "output_type": "stream",
     "name": "stdout",
     "text": [
      "Found 72 subjects\n",
      "Reading logs for: ..//preproc_pipeline_experiments/results/exp_impact_tracker/ukb/run_1/\n",
      "../../experiment-impact-tracker/experiment_impact_tracker/data_utils.py:30: FutureWarning: pandas.io.json.json_normalize is deprecated, use pandas.json_normalize instead\n",
      "  return json_normalize(json_array, max_level=max_level), json_array\n",
      "ERROR:root:Internal Python error in the inspect module.\n",
      "Below is the traceback from this internal error.\n",
      "\n",
      "ERROR:root:Internal Python error in the inspect module.\n",
      "Below is the traceback from this internal error.\n",
      "\n",
      "Traceback (most recent call last):\n",
      "\n",
      "KeyboardInterrupt\n",
      "\n"
     ]
    }
   ],
   "source": [
    "save_perf = False\n",
    "\n",
    "subject_df = pd.read_csv(subject_lists)\n",
    "subject_ids = subject_df['eid']\n",
    "\n",
    "ignore_subjects = {1009760}\n",
    "subject_ids = list(set(subject_ids) - ignore_subjects)\n",
    "\n",
    "print('Found {} subjects'.format(len(subject_ids)))\n",
    "\n",
    "FastCNN_dir = fastsurfer_results_dir + 'ukb/FastCNN/'\n",
    "FastRecon_dir = fastsurfer_results_dir + 'ukb/FastRecon/'\n",
    "\n",
    "experiment_sets = {\n",
    "                ## FreeSurfer baseline\n",
    "                   'recon-all_run_1':(preproc_results_dir + 'ukb/run_1/', False), # log_dir, use_cuda\n",
    "                   'recon-all_run_2':(preproc_results_dir + 'ukb/run_2/', False), # log_dir, use_cuda\n",
    "\n",
    "                ## FastSurferCNN run1 cpu\n",
    "                #    'fastsurferCNN_run1_cpu_prune_0':(FastCNN_dir + 'run_1/cpu/prune_0/', False), # log_dir, use_cuda \n",
    "                #    'fastsurferCNN_run1_cpu_prune_25':(FastCNN_dir + 'run_1/cpu/prune_25/', False), # log_dir, use_cuda \n",
    "                #    'fastsurferCNN_run1_cpu_prune_50':(FastCNN_dir + 'run_1/cpu/prune_50/', False), # log_dir, use_cuda \n",
    "                \n",
    "                ## FastSurferCNN run1 gpu\n",
    "                #    'fastsurferCNN_run1_gpu_prune_0':(FastCNN_dir + 'run_1/gpu/prune_0/', True), # log_dir, use_cuda\n",
    "                #    'fastsurferCNN_run1_gpu_prune_25':(FastCNN_dir + 'run_1/gpu/prune_25/', True), # log_dir, use_cuda\n",
    "                #    'fastsurferCNN_run1_gpu_prune_50':(FastCNN_dir + 'run_1/gpu/prune_50/', True), # log_dir, use_cuda\n",
    "\n",
    "                ## FastSurferCNN run2 cpu\n",
    "                #    'fastsurferCNN_run2_cpu_prune_0':(FastCNN_dir + 'run_2/cpu/prune_0/', False), # log_dir, use_cuda \n",
    "                #    'fastsurferCNN_run2_cpu_prune_25':(FastCNN_dir + 'run_2/cpu/prune_25/', False), # log_dir, use_cuda\n",
    "                #    'fastsurferCNN_run2_cpu_prune_50':(FastCNN_dir + 'run_2/cpu/prune_50/', False), # log_dir, use_cuda\n",
    "\n",
    "                ## FastSurferCNN run2 gpu\n",
    "                #    'fastsurferCNN_run2_gpu_prune_0':(FastCNN_dir + 'run_2/gpu/prune_0/', True), # log_dir, use_cuda\n",
    "                #    'fastsurferCNN_run2_gpu_prune_25':(FastCNN_dir + 'run_2/gpu/prune_25/', True), # log_dir, use_cuda\n",
    "                #    'fastsurferCNN_run2_gpu_prune_50':(FastCNN_dir + 'run_2/gpu/prune_50/', True), # log_dir, use_cuda\n",
    "\n",
    "                ## FastSurferCNN run3 cpu\n",
    "                   'fastsurferCNN_run3_cpu_prune_0':(FastCNN_dir + 'run_3/cpu/prune_0/', False), # log_dir, use_cuda \n",
    "                   'fastsurferCNN_run3_cpu_prune_25':(FastCNN_dir + 'run_3/cpu/prune_25/', False), # log_dir, use_cuda\n",
    "                   'fastsurferCNN_run3_cpu_prune_50':(FastCNN_dir + 'run_3/cpu/prune_50/', False), # log_dir, use_cuda\n",
    "                \n",
    "                ## FastSurferRecon run1 cpu\n",
    "                #    'fastsurferRecon_run1_cpu_prune_0':(FastRecon_dir + 'run_1/', False), # log_dir, use_cuda\n",
    "                  }\n",
    "\n",
    "for exp_set, exp_config in experiment_sets.items(): \n",
    "    print('Reading logs for: {}'.format(exp_config[0]))\n",
    "    tracker_log_dir = exp_config[0]\n",
    "    use_cuda = exp_config[1]\n",
    "    # try:\n",
    "    tracker_summary_df_concat, flops_df_concat, power_df_concat = collate_tracker_data(tracker_log_dir, subject_ids, use_cuda)\n",
    "    tracker_summary_df_concat['experiment_set'] = exp_set\n",
    "    flops_df_concat['experiment_set'] = exp_set\n",
    "    power_df_concat['experiment_set'] = exp_set\n",
    "    \n",
    "    if save_perf:\n",
    "        tracker_summary_df_concat.to_csv('{}{}'.format(tracker_log_dir,'tracker_summary_df_concat.csv'))\n",
    "        flops_df_concat.to_csv('{}{}'.format(tracker_log_dir,'flops_df_concat.csv'))\n",
    "        power_df_concat.to_csv('{}{}'.format(tracker_log_dir,'power_df_concat.csv'))\n",
    "    # except Exception as e:\n",
    "    #     print(e)\n",
    "    #     continue"
   ]
  },
  {
   "source": [
    "### Collate saved tracker perf"
   ],
   "cell_type": "markdown",
   "metadata": {}
  },
  {
   "cell_type": "code",
   "execution_count": null,
   "metadata": {},
   "outputs": [],
   "source": [
    "tracker_summary_df_concat_exp_set = pd.DataFrame()\n",
    "flops_df_concat_exp_set = pd.DataFrame()\n",
    "power_df_concat_exp_set = pd.DataFrame()\n",
    "\n",
    "experiment_sets = {\n",
    "                ## FreeSurfer baseline\n",
    "                  #  'recon-all_run_1':(preproc_results_dir + 'ukb/run_1/', False), # log_dir, use_cuda\n",
    "                   'recon-all_run_2':(preproc_results_dir + 'ukb/run_2/', False), # log_dir, use_cuda\n",
    "\n",
    "                ## FastSurferCNN run1 cpu (possibly bad)\n",
    "                  #  'fastsurferCNN_run1_cpu_prune_0':(FastCNN_dir + 'run_1/cpu/prune_0/', False), # log_dir, use_cuda \n",
    "                  #  'fastsurferCNN_run1_cpu_prune_25':(FastCNN_dir + 'run_1/cpu/prune_25/', False), # log_dir, use_cuda \n",
    "                  #  'fastsurferCNN_run1_cpu_prune_50':(FastCNN_dir + 'run_1/cpu/prune_50/', False), # log_dir, use_cuda \n",
    "                \n",
    "                ## FastSurferCNN run1 gpu\n",
    "                   'fastsurferCNN_run1_gpu_prune_0':(FastCNN_dir + 'run_1/gpu/prune_0/', True), # log_dir, use_cuda\n",
    "                  #  'fastsurferCNN_run1_gpu_prune_25':(FastCNN_dir + 'run_1/gpu/prune_25/', True), # log_dir, use_cuda\n",
    "                  #  'fastsurferCNN_run1_gpu_prune_50':(FastCNN_dir + 'run_1/gpu/prune_50/', True), # log_dir, use_cuda\n",
    "\n",
    "                ## FastSurferCNN run2 cpu (ovewritten bad)\n",
    "                  #  'fastsurferCNN_run2_cpu_prune_0':(FastCNN_dir + 'run_2/cpu/prune_0/', False), # log_dir, use_cuda \n",
    "                  #  'fastsurferCNN_run2_cpu_prune_25':(FastCNN_dir + 'run_2/cpu/prune_25/', False), # log_dir, use_cuda\n",
    "                  #  'fastsurferCNN_run2_cpu_prune_50':(FastCNN_dir + 'run_2/cpu/prune_50/', False), # log_dir, use_cuda\n",
    "\n",
    "                ## FastSurferCNN run2 gpu\n",
    "                   'fastsurferCNN_run2_gpu_prune_0':(FastCNN_dir + 'run_2/gpu/prune_0/', True), # log_dir, use_cuda\n",
    "                  #  'fastsurferCNN_run2_gpu_prune_25':(FastCNN_dir + 'run_2/gpu/prune_25/', True), # log_dir, use_cuda\n",
    "                  #  'fastsurferCNN_run2_gpu_prune_50':(FastCNN_dir + 'run_2/gpu/prune_50/', True), # log_dir, use_cuda\n",
    "\n",
    "               ## FastSurferCNN run3 cpu\n",
    "                   'fastsurferCNN_run3_cpu_prune_0':(FastCNN_dir + 'run_3/cpu/prune_0/', False), # log_dir, use_cuda \n",
    "                  #  'fastsurferCNN_run3_cpu_prune_25':(FastCNN_dir + 'run_3/cpu/prune_25/', False), # log_dir, use_cuda\n",
    "                  #  'fastsurferCNN_run3_cpu_prune_50':(FastCNN_dir + 'run_3/cpu/prune_50/', False), # log_dir, use_cuda\n",
    "                \n",
    "                ## FastSurferRecon run1 cpu\n",
    "                   'fastsurferRecon_run1_cpu_prune_0':(FastRecon_dir + 'run_1/', False), # log_dir, use_cuda\n",
    "                  }\n",
    "\n",
    "for exp_set, exp_config in experiment_sets.items(): \n",
    "\n",
    "   tracker_log_dir = exp_config[0]\n",
    "   \n",
    "   try:\n",
    "      tracker_summary_df_concat = pd.read_csv('{}{}'.format(tracker_log_dir,'tracker_summary_df_concat.csv'))\n",
    "      flops_df_concat = pd.read_csv('{}{}'.format(tracker_log_dir,'flops_df_concat.csv'))\n",
    "      power_df_concat = pd.read_csv('{}{}'.format(tracker_log_dir,'power_df_concat.csv'))\n",
    "\n",
    "      tracker_summary_df_concat_exp_set = tracker_summary_df_concat_exp_set.append(tracker_summary_df_concat)\n",
    "      flops_df_concat_exp_set = flops_df_concat_exp_set.append(flops_df_concat)\n",
    "      power_df_concat_exp_set = power_df_concat_exp_set.append(power_df_concat)\n",
    "\n",
    "   except Exception as e:\n",
    "        print(e)\n",
    "        continue"
   ]
  },
  {
   "source": [
    "### Grab CPU/GPU info from the tracker logs"
   ],
   "cell_type": "markdown",
   "metadata": {}
  },
  {
   "cell_type": "code",
   "execution_count": null,
   "metadata": {},
   "outputs": [],
   "source": [
    "exp_names = tracker_summary_df_concat['experiment_name'].values\n",
    "\n",
    "cpu_info_df = pd.DataFrame(columns=['experiment_set','experiment_name','brand','usable_cpus'])\n",
    "\n",
    "i = 0\n",
    "for exp_set, exp_config in experiment_sets.items(): \n",
    "    print('exp set: {}'.format(exp_set))\n",
    "    for exp_name in exp_names:\n",
    "        try:\n",
    "            tracker_log_dir = exp_config[0] + '/sub-{}'.format(int(exp_name))\n",
    "            info = load_initial_info(tracker_log_dir)\n",
    "            usable_cpus = info['cpu_info']['usable_cpus']\n",
    "            brand = info['cpu_info']['brand_raw']\n",
    "            cpu_info_df.loc[i] = [exp_set,exp_name,brand,usable_cpus]\n",
    "            i = i + 1\n",
    "        except Exception as e:\n",
    "            print(e)\n",
    "            continue\n",
    "\n",
    "# example run info across experiment sets\n",
    "cpu_info_df[cpu_info_df['experiment_name']==1474044]"
   ]
  },
  {
   "source": [
    "## Plots\n",
    "### Duration"
   ],
   "cell_type": "markdown",
   "metadata": {}
  },
  {
   "source": [
    "### Total power usage per experiment (i.e. subject)"
   ],
   "cell_type": "markdown",
   "metadata": {}
  },
  {
   "cell_type": "code",
   "execution_count": null,
   "metadata": {},
   "outputs": [],
   "source": [
    "plot_df = tracker_summary_df_concat_exp_set.copy()\n",
    "plot_df['total_duration (s)'] = plot_df['total_duration_impact_tracker'] * 3600\n",
    "plot_df['total_power (watt-hr)'] = plot_df['total_power'] * 1000\n",
    "plot_df['avg_power (watts)'] = 1000 * plot_df['total_power'] / plot_df['total_duration_impact_tracker'] \n",
    "\n",
    "sns.set(font_scale = 1.5)\n",
    "with sns.axes_style(\"whitegrid\"):\n",
    "    fig, axes = plt.subplots(1,2, figsize=(24,8),sharex=False,sharey=False)\n",
    "    ax = axes[0]\n",
    "    g = sns.scatterplot(y='total_power (watt-hr)', x='total_duration (s)', hue='experiment_set', s=100, data=plot_df, ax=ax)\n",
    "    # g = sns.barplot(y='total_power (watt-hr)', x='experiment_set',  data=plot_df, ax=ax)\n",
    "    g.set(xscale='log',yscale='log') \n",
    "    g.legend(fontsize=12)\n",
    "\n",
    "    ax = axes[1]\n",
    "    g = sns.barplot(y='avg_power (watts)', x='experiment_set', data=plot_df, ax=ax)\n",
    "    g.set_xticklabels(g.get_xticklabels(),rotation=30,fontsize=16)\n",
    "    g.set(yscale='log') \n",
    "\n"
   ]
  },
  {
   "source": [
    "### Power for segmentation"
   ],
   "cell_type": "markdown",
   "metadata": {}
  },
  {
   "cell_type": "code",
   "execution_count": null,
   "metadata": {},
   "outputs": [],
   "source": [
    "flops_df_concat_exp_set_segmentation = flops_df_concat_exp_set.copy()\n",
    "flops_df_concat_exp_set_segmentation = flops_df_concat_exp_set_segmentation[~flops_df_concat_exp_set_segmentation['task'].isin(['autorecon3'])]\n",
    "print(len(flops_df_concat_exp_set),len(flops_df_concat_exp_set_segmentation))\n",
    "flops_df_concat_exp_set_segmentation = flops_df_concat_exp_set_segmentation.groupby(['experiment_name','experiment_set']).sum().reset_index()\n",
    "print(len(flops_df_concat_exp_set_segmentation))\n",
    "plot_df = flops_df_concat_exp_set_segmentation.copy()\n",
    "plot_df['segmentation_task_power_draw (watt-hr)'] = plot_df['power']*1000\n",
    "\n",
    "sns.set(font_scale = 1.5)\n",
    "with sns.axes_style(\"whitegrid\"):\n",
    "    g = sns.catplot(y='segmentation_task_power_draw (watt-hr)', x='experiment_set', data=plot_df, kind='bar',aspect=3)\n",
    "    g.set(yscale='log')\n",
    "    g.set_xticklabels(rotation=30,fontsize=16)\n",
    "\n"
   ]
  },
  {
   "source": [
    "### avg power reading"
   ],
   "cell_type": "markdown",
   "metadata": {}
  },
  {
   "cell_type": "code",
   "execution_count": null,
   "metadata": {},
   "outputs": [],
   "source": [
    "plot_df = power_df_concat_exp_set.copy()\n",
    "\n",
    "sns.set(font_scale = 1.5)\n",
    "\n",
    "with sns.axes_style(\"whitegrid\"):\n",
    "    g = sns.catplot(y='total_power_per_timestep', x='experiment_name', hue='experiment_set', data=plot_df, kind='point',aspect=3)\n",
    "    g.set_xticklabels(rotation=50,fontsize=12)\n"
   ]
  },
  {
   "source": [
    "### Flops vs Power"
   ],
   "cell_type": "markdown",
   "metadata": {}
  },
  {
   "cell_type": "code",
   "execution_count": null,
   "metadata": {},
   "outputs": [],
   "source": [
    "plot_df = flops_df_concat_exp_set.copy()\n",
    "plot_df = plot_df[~(plot_df['experiment_set']=='recon-all')]\n",
    "plot_df['power'] = plot_df['power']*1000000\n",
    "sns.set(font_scale = 1.5)\n",
    "\n",
    "with sns.axes_style(\"whitegrid\"):\n",
    "    fig, axes = plt.subplots(figsize=(15,10),sharex=False,sharey=False)\n",
    "    g = sns.scatterplot(y='power', x='DP', hue='experiment_set', alpha=0.5, style='task', s=200, data=plot_df)\n",
    "    # g = sns.scatterplot(y='power', x='DP', hue='task', s=100, data=plot_df)\n",
    "    g.set(xscale='log',yscale='log',ylim=[1, 1000000]) \n"
   ]
  },
  {
   "source": [
    "### Power trace"
   ],
   "cell_type": "markdown",
   "metadata": {}
  },
  {
   "cell_type": "code",
   "execution_count": null,
   "metadata": {},
   "outputs": [],
   "source": [
    "experiment_set =  'recon-all' #'recon-all' #'fastsurfer_gpu_prune_0'\n",
    "experiment_name = 1474044\n",
    "use_cuda = True\n",
    "plot_epochs = False\n",
    "\n",
    "plot_df = power_df_concat_exp_set[(power_df_concat_exp_set['experiment_set']==experiment_set) & (power_df_concat_exp_set['experiment_name']==experiment_name)].copy()\n",
    "total_power = tracker_summary_df_concat_exp_set[(tracker_summary_df_concat_exp_set['experiment_set']==experiment_set) & (tracker_summary_df_concat_exp_set['experiment_name']==experiment_name)]['total_power'].values[0]\n",
    "PUE = tracker_summary_df_concat_exp_set[(tracker_summary_df_concat_exp_set['experiment_set']==experiment_set) & (tracker_summary_df_concat_exp_set['experiment_name']==experiment_name)]['PUE'].values[0]\n",
    "\n",
    "sns.set(font_scale = 1.5)\n",
    "with sns.axes_style(\"whitegrid\"):\n",
    "    fig, axes = plt.subplots(figsize=(15,5),sharex=False,sharey=False)\n",
    "\n",
    "    g = sns.lineplot(plot_df['timestamp'],plot_df['total_power_per_timestep'].cumsum(),label='total attributed_power')\n",
    "\n",
    "    if plot_epochs: \n",
    "        for e in epochs:\n",
    "            g = plt.axvline(e, linestyle='-',c='purple')\n",
    "        \n",
    "    g = plt.axhline(total_power, linestyle='--',c='black',label='total power estimate')\n",
    "    \n",
    "    plt.ylabel('power_draws')\n",
    "    plt.legend()\n"
   ]
  },
  {
   "cell_type": "code",
   "execution_count": null,
   "metadata": {},
   "outputs": [],
   "source": []
  }
 ]
}