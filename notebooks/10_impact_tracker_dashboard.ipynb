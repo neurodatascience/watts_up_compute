{
 "metadata": {
  "language_info": {
   "codemirror_mode": {
    "name": "ipython",
    "version": 3
   },
   "file_extension": ".py",
   "mimetype": "text/x-python",
   "name": "python",
   "nbconvert_exporter": "python",
   "pygments_lexer": "ipython3",
   "version": "3.7.9"
  },
  "orig_nbformat": 2,
  "kernelspec": {
   "name": "python3",
   "display_name": "Python 3.7.9 64-bit ('green_compute': conda)",
   "metadata": {
    "interpreter": {
     "hash": "e5f8cee7ddba11edeefb1347c6536a4ac2b361bd4eba89a8b32d7cb85bbef9ea"
    }
   }
  }
 },
 "nbformat": 4,
 "nbformat_minor": 2,
 "cells": [
  {
   "cell_type": "code",
   "execution_count": 2,
   "metadata": {},
   "outputs": [
    {
     "output_type": "stream",
     "name": "stdout",
     "text": [
      "loading region bounding boxes for computing carbon emissions region, this may take a moment...\n",
      " 454/454... rate=405.01 Hz, eta=0:00:00, total=0:00:01, wall=23:07 EST\n",
      "Done!\n"
     ]
    }
   ],
   "source": [
    "# experiment tracker\n",
    "sys.path.append('../../')\n",
    "sys.path.append('../')\n",
    "sys.path.append('../../experiment-impact-tracker/')\n",
    "\n",
    "from experiment_impact_tracker.data_interface import DataInterface\n",
    "from experiment_impact_tracker.data_utils import *\n",
    "\n",
    "import numpy as np\n",
    "import matplotlib.pyplot as plt\n",
    "import pandas as pd\n",
    "import seaborn as sns\n",
    "\n",
    "\n",
    "### Notes\n",
    "### local vs CC seem to huge FLOP difference during setup"
   ]
  },
  {
   "cell_type": "code",
   "execution_count": 3,
   "metadata": {},
   "outputs": [],
   "source": [
    "project_dir = '../'\n",
    "fastsurfer_exp_dir = '{}/FastSurfer_experiments/'.format(project_dir)\n",
    "preproc_exp_dir = '{}/preproc_pipeline_experiments/'.format(project_dir)\n",
    "fastsurfer_results_dir = '{}results/exp_impact_tracker/'.format(fastsurfer_exp_dir)\n",
    "preproc_results_dir = '{}results/exp_impact_tracker/'.format(preproc_exp_dir)\n",
    "subject_lists = '{}subject_lists/ukb_pilot_subjects.csv'.format(project_dir)"
   ]
  },
  {
   "cell_type": "code",
   "execution_count": 4,
   "metadata": {},
   "outputs": [],
   "source": [
    "def get_tracker_data(experiment_name, logdir, use_cuda, read_flops):\n",
    "    # impact tracker log\n",
    "    tracker_df =  load_data_into_frame(logdir)\n",
    "\n",
    "    if use_cuda:\n",
    "        power_df = tracker_df[0][['timestamp','rapl_power_draw_absolute','rapl_estimated_attributable_power_draw','nvidia_draw_absolute','nvidia_estimated_attributable_power_draw']]\n",
    "        power_df['total_attributable_power_draw'] = power_df['rapl_estimated_attributable_power_draw'] + power_df['nvidia_estimated_attributable_power_draw']\n",
    "\n",
    "    else:\n",
    "        power_df = tracker_df[0][['timestamp','rapl_power_draw_absolute','rapl_estimated_attributable_power_draw']]\n",
    "        power_df['total_attributable_power_draw'] = power_df['rapl_estimated_attributable_power_draw']\n",
    "        \n",
    "    # start time from 0\n",
    "    power_df['timestamp'] = power_df['timestamp'] - power_df['timestamp'][0]\n",
    "    power_df['experiment_name'] = experiment_name\n",
    "\n",
    "    # papi log\n",
    "    flops_df = None\n",
    "    total_duration = 0\n",
    "    if read_flops:\n",
    "        compute_flops_csv = logdir + 'compute_costs_flop.csv'\n",
    "        flops_df = pd.read_csv(compute_flops_csv)\n",
    "        flops_df['experiment_name'] = experiment_name\n",
    "    \n",
    "        flops_df['start_time'] = flops_df['start_time'] - flops_df['start_time'][0]\n",
    "\n",
    "        # Aggregate power draws per epoch for each papi context calculation (i.e. setup, axial, aggr etc))\n",
    "        epoch_power_draw_list = []\n",
    "        epoch_timestamps = list(flops_df['start_time'].values[1:]) + [power_df['timestamp'].values[-1]]\n",
    "        \n",
    "        for e, epoch in enumerate(epoch_timestamps):\n",
    "            epoch_power_draw = power_df[power_df['timestamp'] < epoch]['total_attributable_power_draw'].sum() # this is sum upto the epoch (not interval)\n",
    "            if e == 0:\n",
    "                epoch_power_draw_list.append(epoch_power_draw)  \n",
    "            else:\n",
    "                epoch_power_draw_list.append(epoch_power_draw - epoch_power_draw_list[e-1]) #Subtracting previous stage power-draw \n",
    "\n",
    "        flops_df['epoch_power_draw'] = epoch_power_draw_list\n",
    "    \n",
    "\n",
    "    data_interface = DataInterface([logdir])\n",
    "    total_power = data_interface.total_power\n",
    "    total_carbon = data_interface.kg_carbon\n",
    "    PUE = data_interface.PUE\n",
    "    total_duration = (power_df['timestamp'].values[-1]-power_df['timestamp'].values[0])/3600\n",
    "\n",
    "    tracker_summary_df = pd.DataFrame(columns=['experiment_name','total_power','total_carbon','PUE','total_duration'])\n",
    "    tracker_summary_df.loc[0] = [experiment_name,total_power,total_carbon,PUE,total_duration]\n",
    "    return power_df, flops_df, tracker_summary_df\n",
    " \n",
    "\n"
   ]
  },
  {
   "source": [
    "### Custom set of expeirments"
   ],
   "cell_type": "markdown",
   "metadata": {}
  },
  {
   "cell_type": "code",
   "execution_count": null,
   "metadata": {},
   "outputs": [],
   "source": [
    "experiment_dict = {\n",
    "                   'FastSurfer_local_cpu':('{}/track_sub_000_benchmark/'.format(fastsurfer_results_dir),False), \n",
    "                   'FastSurfer_CC_cpu':('{}/CC_cpu_test/'.format(fastsurfer_results_dir),False),\n",
    "                   'FastSurfer_CC_gpu':('{}/CC_gpu_test/'.format(fastsurfer_results_dir),True),\n",
    "                   'autorecon1_local_test_1':('{}/ReconAll_test_local_cpu/'.format(preproc_results_dir),False),\n",
    "                   'autorecon2-3_local_test_1':('{}/ReconAll_test_location_override/'.format(preproc_results_dir),False),\n",
    "                   'autorecon1_CC_test_1':('{}/ReconAll_test_CC_cpu/'.format(preproc_results_dir),False),\n",
    "                   'autorecon1_CC_ukb_1':('{}/ReconAll_ukb_CC_cpu/'.format(preproc_results_dir),False)\n",
    "                   }\n",
    "\n",
    "read_flops = True\n",
    "\n",
    "power_df_concat = pd.DataFrame()\n",
    "flops_df_concat = pd.DataFrame()\n",
    "tracker_summary_df_concat = pd.DataFrame()\n",
    "\n",
    "for k,v in experiment_dict.items():\n",
    "    power_df, flops_df, tracker_summary_df = get_tracker_data(k, v[0], v[1], read_flops)\n",
    "    power_df_concat = power_df_concat.append(power_df)\n",
    "    flops_df_concat = flops_df_concat.append(flops_df)\n",
    "    tracker_summary_df_concat = tracker_summary_df_concat.append(tracker_summary_df)\n"
   ]
  },
  {
   "source": [
    "### UKB pilot experiment sets\n",
    "- recon-all \n",
    "- fastsurfer\n",
    "    - pruning_{0,25,50}\n",
    "    - gpu/cpu"
   ],
   "cell_type": "markdown",
   "metadata": {}
  },
  {
   "cell_type": "code",
   "execution_count": 5,
   "metadata": {},
   "outputs": [],
   "source": [
    "def collate_tracker_data(tracker_log_dir, exp_list, use_cuda, read_flops=True):\n",
    "    experiment_dict = {}\n",
    "    for id in exp_list:\n",
    "        # reconall \n",
    "        tracker_path = tracker_log_dir + 'sub-{}/'.format(id)\n",
    "        experiment_dict[id] = (tracker_path, use_cuda)\n",
    "\n",
    "    power_df_concat = pd.DataFrame()\n",
    "    flops_df_concat = pd.DataFrame()\n",
    "    tracker_summary_df_concat = pd.DataFrame()\n",
    "    i = 0\n",
    "    for k,v in experiment_dict.items():\n",
    "        print('{} subject_id: {}'.format(i, k))\n",
    "        i += 1\n",
    "        try:\n",
    "            power_df, flops_df, tracker_summary_df = get_tracker_data(k, v[0], v[1], read_flops)\n",
    "            power_df_concat = power_df_concat.append(power_df)\n",
    "            flops_df_concat = flops_df_concat.append(flops_df)\n",
    "            tracker_summary_df_concat = tracker_summary_df_concat.append(tracker_summary_df)\n",
    "        except:\n",
    "            continue\n",
    "\n",
    "    return tracker_summary_df_concat, flops_df_concat, power_df_concat"
   ]
  },
  {
   "cell_type": "code",
   "execution_count": 6,
   "metadata": {},
   "outputs": [
    {
     "output_type": "stream",
     "name": "stdout",
     "text": [
      "Found 72 subjects\n",
      "0 subject_id: 1047553\n",
      "1 subject_id: 3553027\n",
      "2 subject_id: 1406980\n",
      "3 subject_id: 1013261\n",
      "4 subject_id: 1037070\n",
      "5 subject_id: 1554964\n",
      "6 subject_id: 1027606\n",
      "7 subject_id: 4451351\n",
      "8 subject_id: 4656152\n",
      "9 subject_id: 1190941\n",
      "10 subject_id: 2810142\n",
      "11 subject_id: 1792032\n",
      "12 subject_id: 1072930\n",
      "13 subject_id: 1282100\n",
      "14 subject_id: 1042997\n",
      "15 subject_id: 1518902\n",
      "16 subject_id: 1086009\n",
      "17 subject_id: 3522877\n",
      "18 subject_id: 1100101\n",
      "19 subject_id: 3614538\n",
      "20 subject_id: 1000011\n",
      "21 subject_id: 3672652\n",
      "22 subject_id: 3171661\n",
      "23 subject_id: 5142605\n",
      "24 subject_id: 1088341\n",
      "25 subject_id: 1000537\n",
      "26 subject_id: 1032539\n",
      "27 subject_id: 1245278\n",
      "28 subject_id: 1011809\n",
      "29 subject_id: 1081696\n",
      "30 subject_id: 1530211\n",
      "31 subject_id: 1035366\n",
      "32 subject_id: 1112423\n",
      "33 subject_id: 2316147\n",
      "34 subject_id: 1061245\n",
      "35 subject_id: 1085566\n",
      "36 subject_id: 1232770\n",
      "37 subject_id: 4778114\n",
      "38 subject_id: 4364423\n",
      "39 subject_id: 1021576\n",
      "40 subject_id: 4245899\n",
      "41 subject_id: 1000083\n",
      "42 subject_id: 1004436\n",
      "43 subject_id: 1050772\n",
      "44 subject_id: 1000347\n",
      "45 subject_id: 1005469\n",
      "46 subject_id: 1450654\n",
      "47 subject_id: 1005221\n",
      "48 subject_id: 1455277\n",
      "49 subject_id: 2014383\n",
      "50 subject_id: 1185456\n",
      "51 subject_id: 1012146\n",
      "52 subject_id: 1033401\n",
      "53 subject_id: 4246203\n",
      "54 subject_id: 1193159\n",
      "55 subject_id: 1040584\n",
      "56 subject_id: 1000394\n",
      "57 subject_id: 2826442\n",
      "58 subject_id: 3174352\n",
      "59 subject_id: 1599957\n",
      "60 subject_id: 1110743\n",
      "61 subject_id: 1127906\n",
      "62 subject_id: 1838053\n",
      "63 subject_id: 1006569\n",
      "64 subject_id: 3875050\n",
      "65 subject_id: 4140526\n",
      "66 subject_id: 1762288\n",
      "67 subject_id: 1473014\n",
      "68 subject_id: 1076471\n",
      "69 subject_id: 3754490\n",
      "70 subject_id: 1044475\n",
      "71 subject_id: 1474044\n"
     ]
    }
   ],
   "source": [
    "subject_df = pd.read_csv(subject_lists)\n",
    "subject_ids = subject_df['eid']\n",
    "\n",
    "ignore_subjects = {1009760}\n",
    "subject_ids = list(set(subject_ids) - ignore_subjects)\n",
    "\n",
    "print('Found {} subjects'.format(len(subject_ids)))\n",
    "\n",
    "experiment_sets = {\n",
    "                   'recon-all':(preproc_results_dir + 'ukb/', False), # log_dir, use_cuda\n",
    "                   'fastsurfer_gpu_prune_0':(fastsurfer_results_dir + 'ukb/gpu/', False) # log_dir, use_cuda\n",
    "                  }\n",
    "\n",
    "for exp_name, exp_config in experiment_sets.items(): \n",
    "    tracker_log_dir = exp_config[0]\n",
    "    use_cuda = exp_config[1]\n",
    "    tracker_summary_df_concat, flops_df_concat, power_df_concat = collate_tracker_data(tracker_log_dir, subject_ids, use_cuda)\n",
    "    tracker_summary_df_concat['experiment_set'] = exp_name\n",
    "    flops_df_concat['experiment_set'] = exp_name\n",
    "    power_df_concat['experiment_set'] = exp_name\n",
    "    \n",
    "    tracker_summary_df_concat.to_csv('{}{}'.format(tracker_log_dir,'tracker_summary_df_concat.csv'))\n",
    "    flops_df_concat.to_csv('{}{}'.format(tracker_log_dir,'flops_df_concat.csv'))\n",
    "    power_df_concat.to_csv('{}{}'.format(tracker_log_dir,'power_df_concat.csv'))\n",
    "    "
   ]
  },
  {
   "source": [
    "### Collate saved tracker perf"
   ],
   "cell_type": "markdown",
   "metadata": {}
  },
  {
   "cell_type": "code",
   "execution_count": null,
   "metadata": {},
   "outputs": [],
   "source": [
    "tracker_summary_df_concat_exp_set = pd.DataFrame()\n",
    "flops_df_concat_exp_set = pd.DataFrame()\n",
    "power_df_concat_exp_set = pd.DataFrame()\n",
    "\n",
    "experiment_sets = {\n",
    "                   'recon-all':(preproc_results_dir + 'ukb/', False), # log_dir, use_cuda\n",
    "                   'fastsurfer_gpu_prune_0':(fastsurfer_results_dir + 'ukb/gpu/', False) # log_dir, use_cuda\n",
    "                  }\n",
    "\n",
    "for exp_name, exp_config in experiment_sets.items(): \n",
    "    tracker_log_dir = exp_config[0]\n",
    "    tracker_summary_df_concat = pd.read_csv('{}{}'.format(tracker_log_dir,'tracker_summary_df_concat.csv'))\n",
    "    flops_df_concat = pd.read_csv('{}{}'.format(tracker_log_dir,'flops_df_concat.csv'))\n",
    "    power_df_concat = pd.read_csv('{}{}'.format(tracker_log_dir,'power_df_concat.csv'))\n",
    "\n",
    "    tracker_summary_df_concat_exp_set = tracker_summary_df_concat_exp_set.append(tracker_summary_df_concat)\n",
    "    flops_df_concat_exp_set = flops_df_concat_exp_set.append(flops_df_concat)\n",
    "    power_df_concat_exp_set = power_df_concat_exp_set.append(power_df_concat)\n"
   ]
  },
  {
   "cell_type": "code",
   "execution_count": null,
   "metadata": {},
   "outputs": [],
   "source": []
  },
  {
   "source": [
    "## Plots\n",
    "### Summary power"
   ],
   "cell_type": "markdown",
   "metadata": {}
  },
  {
   "cell_type": "code",
   "execution_count": null,
   "metadata": {},
   "outputs": [],
   "source": [
    "plot_df = power_df_concat.copy()\n",
    "\n",
    "sns.set(font_scale = 1.5)\n",
    "\n",
    "with sns.axes_style(\"whitegrid\"):\n",
    "    g = sns.catplot(y='total_attributable_power_draw', x='experiment_name', data=plot_df, kind='strip',aspect=3)\n"
   ]
  },
  {
   "source": [
    "### Flops vs Power"
   ],
   "cell_type": "markdown",
   "metadata": {}
  },
  {
   "cell_type": "code",
   "execution_count": null,
   "metadata": {},
   "outputs": [],
   "source": [
    "plot_df = flops_df_concat.copy()\n",
    "\n",
    "sns.set(font_scale = 1.5)\n",
    "\n",
    "with sns.axes_style(\"whitegrid\"):\n",
    "    fig, axes = plt.subplots(figsize=(15,10),sharex=False,sharey=False)\n",
    "    g = sns.scatterplot(y='epoch_power_draw', x='DP', hue='task', s=100, data=plot_df)\n",
    "    g.set(xscale='log',yscale='log') \n"
   ]
  },
  {
   "source": [
    "### Power trace"
   ],
   "cell_type": "markdown",
   "metadata": {}
  },
  {
   "cell_type": "code",
   "execution_count": null,
   "metadata": {},
   "outputs": [],
   "source": [
    "experiment_name = 'autorecon1_CC_ukb_1'\n",
    "\n",
    "plot_df = power_df_concat[power_df_concat['experiment_name']==experiment_name].copy()\n",
    "total_power = tracker_summary_df_concat[tracker_summary_df_concat['experiment_name']==experiment_name]['total_power'].values[0]\n",
    "PUE = tracker_summary_df_concat[tracker_summary_df_concat['experiment_name']==experiment_name]['PUE'].values[0]\n",
    "\n",
    "use_cuda = False\n",
    "plot_epochs = False\n",
    "\n",
    "sns.set(font_scale = 1.5)\n",
    "with sns.axes_style(\"whitegrid\"):\n",
    "    fig, axes = plt.subplots(figsize=(15,5),sharex=False,sharey=False)\n",
    "\n",
    "    g = sns.lineplot(plot_df['timestamp'],plot_df['rapl_power_draw_absolute'].cumsum(),label='cpu absolute_power')\n",
    "    g = sns.lineplot(plot_df['timestamp'],plot_df['rapl_estimated_attributable_power_draw'].cumsum(),label='cpu attributed_power')\n",
    "\n",
    "    if use_cuda:\n",
    "        g = sns.lineplot(plot_df['timestamp'],plot_df['nvidia_draw_absolute'].cumsum(),label='gpu total_power')\n",
    "        g = sns.lineplot(plot_df['timestamp'],plot_df['nvidia_estimated_attributable_power_draw'].cumsum(),label='gpu attributed_power')\n",
    "\n",
    "    if plot_epochs: \n",
    "        for e in epochs:\n",
    "            g = plt.axvline(e, linestyle='-',c='purple')\n",
    "        \n",
    "    g = plt.axhline(1000000*total_power/PUE, linestyle='--',c='black',label='total power estimate')\n",
    "    \n",
    "    plt.legend()\n"
   ]
  },
  {
   "cell_type": "code",
   "execution_count": null,
   "metadata": {},
   "outputs": [],
   "source": []
  },
  {
   "cell_type": "code",
   "execution_count": null,
   "metadata": {},
   "outputs": [],
   "source": []
  },
  {
   "cell_type": "code",
   "execution_count": null,
   "metadata": {},
   "outputs": [],
   "source": [
    "# experiment tracker\n",
    "sys.path.append('../../')\n",
    "sys.path.append('../')\n",
    "sys.path.append('../../experiment-impact-tracker/')\n",
    "\n",
    "from experiment_impact_tracker.compute_tracker import ImpactTracker\n",
    "import tempfile\n",
    "import time\n",
    "\n",
    "def func1():\n",
    "    count = 0\n",
    "    for i in range(100):\n",
    "        count += i\n",
    "    return count\n",
    "\n",
    "def func2():\n",
    "    count = 0\n",
    "    for i in range(100):\n",
    "        count += i**2\n",
    "    return count"
   ]
  },
  {
   "cell_type": "code",
   "execution_count": null,
   "metadata": {
    "tags": []
   },
   "outputs": [],
   "source": [
    "experiment1 = tempfile.mkdtemp()\n",
    "experiment2 = tempfile.mkdtemp()\n",
    "\n",
    "print('Tracker 1')\n",
    "tracker1  = ImpactTracker(experiment1)\n",
    "print(tracker1.launched)\n",
    "with tracker1:\n",
    "    func1()\n",
    "    print(tracker1.launched)\n",
    "\n",
    "time.sleep(1)\n",
    "print('Tracker 2')\n",
    "tracker2  = ImpactTracker(experiment2)\n",
    "print(tracker2.launched)\n",
    "with tracker2:\n",
    "    print('Starting context')\n",
    "    print(tracker2.launched)\n",
    "    print('Starting func2')\n",
    "    func2()\n",
    "    print(tracker2.launched)"
   ]
  },
  {
   "cell_type": "code",
   "execution_count": null,
   "metadata": {},
   "outputs": [],
   "source": [
    "from experiment_impact_tracker.emissions.get_region_metrics import \\\n",
    "    get_current_region_info_cached, get_current_location"
   ]
  },
  {
   "cell_type": "code",
   "execution_count": null,
   "metadata": {},
   "outputs": [],
   "source": [
    "region_info = get_current_region_info_cached()\n",
    "region_info"
   ]
  },
  {
   "cell_type": "code",
   "execution_count": null,
   "metadata": {},
   "outputs": [],
   "source": [
    "region_info[0]['geometry']"
   ]
  },
  {
   "cell_type": "code",
   "execution_count": null,
   "metadata": {},
   "outputs": [],
   "source": [
    "get_current_location()"
   ]
  },
  {
   "cell_type": "code",
   "execution_count": null,
   "metadata": {},
   "outputs": [],
   "source": []
  }
 ]
}