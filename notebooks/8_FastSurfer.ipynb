{
 "metadata": {
  "language_info": {
   "codemirror_mode": {
    "name": "ipython",
    "version": 3
   },
   "file_extension": ".py",
   "mimetype": "text/x-python",
   "name": "python",
   "nbconvert_exporter": "python",
   "pygments_lexer": "ipython3",
   "version": "3.7.9"
  },
  "orig_nbformat": 2,
  "kernelspec": {
   "name": "python3",
   "display_name": "Python 3.7.9 64-bit",
   "metadata": {
    "interpreter": {
     "hash": "e5f8cee7ddba11edeefb1347c6536a4ac2b361bd4eba89a8b32d7cb85bbef9ea"
    }
   }
  }
 },
 "nbformat": 4,
 "nbformat_minor": 2,
 "cells": [
  {
   "source": [
    "# Sandbox for testing FastSurfer model\n",
    "- https://github.com/nikhil153/FastSurfer"
   ],
   "cell_type": "markdown",
   "metadata": {}
  },
  {
   "cell_type": "code",
   "execution_count": 1,
   "metadata": {},
   "outputs": [],
   "source": [
    "import nibabel as nib\n",
    "import numpy as np\n",
    "import pandas as pd\n",
    "\n",
    "def convert_mgh_to_nifti(mgh_file):\n",
    "    nii_file = mgh_file.rsplit('.',1)[0] + '.nii.gz'\n",
    "    mgh = nib.load(mgh_file)\n",
    "    nib.save(mgh, nii_file)\n",
    "\n",
    "def dice_coef(y_true, y_pred, smooth=1):\n",
    "  intersection = np.sum(y_true * y_pred)\n",
    "  union = np.sum(y_true) + np.sum(y_pred)\n",
    "  dice = np.mean((2. * intersection + smooth)/(union + smooth))\n",
    "  return dice\n",
    "\n",
    "def get_multi_label_dice(label_list, y_true, y_pred):\n",
    "    ''' Calculates label-wise dice score for a 3D segmentation volume\n",
    "    '''\n",
    "    dice_dict = {}\n",
    "    for label in label_list:\n",
    "        y_true_label = y_true == label\n",
    "        y_pred_label = y_pred == label\n",
    "        dice = dice_coef(y_true_label.ravel(), y_pred_label.ravel())\n",
    "        dice_dict[label] = dice\n",
    "\n",
    "    return pd.DataFrame(list(dice_dict.items()),columns=['label','dice'])"
   ]
  },
  {
   "cell_type": "code",
   "execution_count": null,
   "metadata": {},
   "outputs": [],
   "source": [
    "data_dir = '/home/nikhil/projects/green_comp_neuro/FastSurfer/data/sub-0039/'\n",
    "mgh_brain = data_dir + 'orig.mgz'\n",
    "\n",
    "fs_seg_file = data_dir + 'aparc.DKTatlas+aseg.nii.gz'\n",
    "deep_seg_file = data_dir + 'aparc.DKTatlas+aseg.deep.nii.gz'\n",
    "\n",
    "fs_seg = nib.load(fs_seg_file).get_fdata()\n",
    "deep_seg = nib.load(deep_seg_file).get_fdata()\n",
    "\n",
    "unique_labels = set(fs_seg.ravel())\n",
    "\n",
    "dice_df = get_multi_label_dice(unique_labels, fs_seg, deep_seg)"
   ]
  }
 ]
}