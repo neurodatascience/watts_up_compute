{
 "metadata": {
  "language_info": {
   "codemirror_mode": {
    "name": "ipython",
    "version": 3
   },
   "file_extension": ".py",
   "mimetype": "text/x-python",
   "name": "python",
   "nbconvert_exporter": "python",
   "pygments_lexer": "ipython3",
   "version": "3.7.9-final"
  },
  "orig_nbformat": 2,
  "kernelspec": {
   "name": "python3",
   "display_name": "Python 3.7.9 64-bit ('green_compute': conda)",
   "metadata": {
    "interpreter": {
     "hash": "e5f8cee7ddba11edeefb1347c6536a4ac2b361bd4eba89a8b32d7cb85bbef9ea"
    }
   }
  }
 },
 "nbformat": 4,
 "nbformat_minor": 2,
 "cells": [
  {
   "source": [
    "# Sandbox for model pruning using:\n",
    "- https://pytorch.org/tutorials/intermediate/pruning_tutorial.html"
   ],
   "cell_type": "markdown",
   "metadata": {}
  },
  {
   "cell_type": "code",
   "execution_count": 14,
   "metadata": {},
   "outputs": [],
   "source": [
    "import os\n",
    "import numpy as np\n",
    "import pandas as pd\n",
    "import pickle\n",
    "import seaborn as sns\n",
    "import torch \n",
    "import torchvision.models as models\n",
    "from torch import nn\n",
    "import torch.nn.utils.prune as prune\n",
    "import torch.nn.functional as F\n",
    "import matplotlib.pyplot as plt\n",
    "from collections import OrderedDict"
   ]
  },
  {
   "cell_type": "code",
   "execution_count": 15,
   "metadata": {},
   "outputs": [],
   "source": [
    "def prune_model(model, prune_type, prune_percent):\n",
    "    ''' Sparsifies (L1) model weights with either global or layerwise prune_percent. Currently only pruning Conv2D.\n",
    "    '''\n",
    "    if prune_type == 'global':\n",
    "        print('Globally pruning all Conv2d layers with {} sparsity'.format(prune_percent))\n",
    "        parameters_to_prune = []\n",
    "        for name, module in model.named_modules():\n",
    "            # prune 20% of connections in all 2D-conv layers\n",
    "            if isinstance(module, torch.nn.Conv2d):\n",
    "                parameters_to_prune.append((module,'weight'))\n",
    "        \n",
    "        prune.global_unstructured(tuple(parameters_to_prune), pruning_method=prune.L1Unstructured, amount=prune_percent)\n",
    "\n",
    "    elif prune_type == 'per_layer':\n",
    "        print('Layerwise pruning all Conv2d layers with {} sparsity'.format(prune_percent))\n",
    "        for name, module in model.named_modules():\n",
    "            # prune 20% of connections in all 2D-conv layers\n",
    "            if isinstance(module, torch.nn.Conv2d):\n",
    "                prune.l1_unstructured(module, name='weight', amount=prune_percent)\n",
    "\n",
    "    else:\n",
    "        print('Unknown pruning method: {}'.format(prune_type))\n",
    "\n",
    "    return model "
   ]
  },
  {
   "cell_type": "code",
   "execution_count": 11,
   "metadata": {},
   "outputs": [
    {
     "output_type": "stream",
     "name": "stderr",
     "text": [
      "Using cache found in /home/nikhil/.cache/torch/hub/mateuszbuda_brain-segmentation-pytorch_master\n",
      "Layerwise pruning all Conv2d layers with 0.1 sparsity\n",
      "Sparsity in encoder1.enc1conv1: 9.95%\n",
      "Sparsity in encoder1.enc1conv2: 10.00%\n",
      "Sparsity in encoder2.enc2conv1: 10.00%\n",
      "Sparsity in encoder2.enc2conv2: 10.00%\n",
      "Sparsity in encoder3.enc3conv1: 10.00%\n",
      "Sparsity in encoder3.enc3conv2: 10.00%\n",
      "Sparsity in encoder4.enc4conv1: 10.00%\n",
      "Sparsity in encoder4.enc4conv2: 10.00%\n",
      "Sparsity in bottleneck.bottleneckconv1: 10.00%\n",
      "Sparsity in bottleneck.bottleneckconv2: 10.00%\n",
      "Sparsity in decoder4.dec4conv1: 10.00%\n",
      "Sparsity in decoder4.dec4conv2: 10.00%\n",
      "Sparsity in decoder3.dec3conv1: 10.00%\n",
      "Sparsity in decoder3.dec3conv2: 10.00%\n",
      "Sparsity in decoder2.dec2conv1: 10.00%\n",
      "Sparsity in decoder2.dec2conv2: 10.00%\n",
      "Sparsity in decoder1.dec1conv1: 10.00%\n",
      "Sparsity in decoder1.dec1conv2: 10.00%\n",
      "Sparsity in conv: 9.38%\n"
     ]
    }
   ],
   "source": [
    "# load model\n",
    "model = torch.hub.load('mateuszbuda/brain-segmentation-pytorch', 'unet',\n",
    "            in_channels=3, out_channels=1, init_features=32, pretrained=False)\n",
    "\n",
    "prune_percent = 0.1\n",
    "prune_type =  'per_layer' #'global' #'per_layer'\n",
    "model = prune_model(model, prune_type, prune_percent)\n",
    "\n",
    "# save pruned version\n",
    "for name, module in model.named_modules():\n",
    "    if isinstance(module, torch.nn.Conv2d):\n",
    "        # prune.remove(module, 'weight')\n",
    "        print(\"Sparsity in {}: {:.2f}%\".format(name, 100. * float(torch.sum(module.weight == 0))/float(module.weight.nelement())))\n"
   ]
  },
  {
   "cell_type": "code",
   "execution_count": null,
   "metadata": {},
   "outputs": [],
   "source": []
  }
 ]
}