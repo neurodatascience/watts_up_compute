{
 "cells": [
  {
   "cell_type": "markdown",
   "metadata": {},
   "source": [
    "## Test example for [CodeCarbon](https://github.com/mlco2/codecarbon) tracking\n",
    "\n",
    "### Note: On local machine the example code needs to be run with root. "
   ]
  },
  {
   "cell_type": "code",
   "execution_count": 1,
   "metadata": {},
   "outputs": [],
   "source": [
    "import sys\n",
    "import numpy as np\n",
    "import pandas as pd\n",
    "import tempfile\n",
    "import torch\n",
    "from codecarbon import EmissionsTracker, OfflineEmissionsTracker\n"
   ]
  },
  {
   "cell_type": "code",
   "execution_count": 6,
   "metadata": {},
   "outputs": [
    {
     "data": {
      "text/html": "<div>\n<style scoped>\n    .dataframe tbody tr th:only-of-type {\n        vertical-align: middle;\n    }\n\n    .dataframe tbody tr th {\n        vertical-align: top;\n    }\n\n    .dataframe thead th {\n        text-align: right;\n    }\n</style>\n<table border=\"1\" class=\"dataframe\">\n  <thead>\n    <tr style=\"text-align: right;\">\n      <th></th>\n      <th>timestamp</th>\n      <th>experiment_id</th>\n      <th>project_name</th>\n      <th>duration</th>\n      <th>emissions</th>\n      <th>energy_consumed</th>\n      <th>country_name</th>\n      <th>country_iso_code</th>\n      <th>region</th>\n      <th>on_cloud</th>\n      <th>cloud_provider</th>\n      <th>cloud_region</th>\n    </tr>\n  </thead>\n  <tbody>\n    <tr>\n      <th>0</th>\n      <td>2021-06-16T21:47:47</td>\n      <td>db40c5c9-0b23-40a2-b35d-f00194ab455f</td>\n      <td>codecarbon</td>\n      <td>268.099709</td>\n      <td>4.866682e-08</td>\n      <td>0.000001</td>\n      <td>Canada</td>\n      <td>CAN</td>\n      <td>ontario</td>\n      <td>N</td>\n      <td>NaN</td>\n      <td>NaN</td>\n    </tr>\n  </tbody>\n</table>\n</div>",
      "text/plain": [
       "             timestamp                         experiment_id project_name  \\\n",
       "0  2021-06-16T21:47:47  db40c5c9-0b23-40a2-b35d-f00194ab455f  codecarbon    \n",
       "\n",
       "     duration     emissions  energy_consumed country_name country_iso_code  \\\n",
       "0  268.099709  4.866682e-08  0.000001         Canada       CAN               \n",
       "\n",
       "    region on_cloud  cloud_provider  cloud_region  \n",
       "0  ontario  N       NaN             NaN            "
      ]
     },
     "execution_count": 6,
     "metadata": {},
     "output_type": "execute_result"
    }
   ],
   "source": [
    "# log_dir = '../tmp/code-carbon/'\n",
    "log_dir = '../tmp/experiment-impact-tracker/'\n",
    "cc_emissions = pd.read_csv(f'{log_dir}emissions.csv')\n",
    "cc_emissions"
   ]
  },
  {
   "cell_type": "markdown",
   "metadata": {},
   "source": [
    "## Compare with experiment-impact-tracker"
   ]
  },
  {
   "cell_type": "code",
   "execution_count": 3,
   "metadata": {},
   "outputs": [
    {
     "name": "stdout",
     "output_type": "stream",
     "text": [
      "loading region bounding boxes for computing carbon emissions region, this may take a moment...\n",
      " 454/454... rate=398.48 Hz, eta=0:00:00, total=0:00:01, wall=21:48 EST\n",
      "Done!\n",
      "../../experiment-impact-tracker/experiment_impact_tracker/data_interface.py:37: FutureWarning: Passing a negative integer is deprecated in version 1.0 and will not be supported in future version. Instead, use None to not limit the column width.\n",
      "  pd.set_option(\"display.max_colwidth\", -1)\n"
     ]
    }
   ],
   "source": [
    "sys.path.append('../../')\n",
    "sys.path.append('../')\n",
    "from lib.dashboard_utils import *"
   ]
  },
  {
   "cell_type": "code",
   "execution_count": 4,
   "metadata": {},
   "outputs": [
    {
     "name": "stderr",
     "output_type": "stream",
     "text": [
      "../../experiment-impact-tracker/experiment_impact_tracker/data_utils.py:30: FutureWarning: pandas.io.json.json_normalize is deprecated, use pandas.json_normalize instead\n",
      "  return json_normalize(json_array, max_level=max_level), json_array\n"
     ]
    },
    {
     "data": {
      "text/html": "<div>\n<style scoped>\n    .dataframe tbody tr th:only-of-type {\n        vertical-align: middle;\n    }\n\n    .dataframe tbody tr th {\n        vertical-align: top;\n    }\n\n    .dataframe thead th {\n        text-align: right;\n    }\n</style>\n<table border=\"1\" class=\"dataframe\">\n  <thead>\n    <tr style=\"text-align: right;\">\n      <th></th>\n      <th>experiment_name</th>\n      <th>total_power</th>\n      <th>total_carbon</th>\n      <th>PUE</th>\n      <th>total_duration_papi</th>\n      <th>total_duration_impact_tracker</th>\n    </tr>\n  </thead>\n  <tbody>\n    <tr>\n      <th>0</th>\n      <td>exp-impact-tracker_example</td>\n      <td>0.001341</td>\n      <td>0.000061</td>\n      <td>1.58</td>\n      <td>0.073235</td>\n      <td>0.074639</td>\n    </tr>\n  </tbody>\n</table>\n</div>",
      "text/plain": [
       "              experiment_name  total_power  total_carbon   PUE  \\\n",
       "0  exp-impact-tracker_example  0.001341     0.000061      1.58   \n",
       "\n",
       "   total_duration_papi  total_duration_impact_tracker  \n",
       "0  0.073235             0.074639                       "
      ]
     },
     "execution_count": 4,
     "metadata": {},
     "output_type": "execute_result"
    }
   ],
   "source": [
    "exp_name = 'exp-impact-tracker_example'\n",
    "log_dir = '../tmp/experiment-impact-tracker/'\n",
    "cuda = False \n",
    "\n",
    "power_df, flops_df, tracker_summary_df = get_tracker_data(exp_name, log_dir, cuda, read_flops=False)\n",
    "tracker_summary_df"
   ]
  },
  {
   "cell_type": "code",
   "execution_count": 2,
   "metadata": {},
   "outputs": [
    {
     "ename": "SyntaxError",
     "evalue": "invalid syntax (<ipython-input-2-ab684f5ccdd9>, line 1)",
     "output_type": "error",
     "traceback": [
      "\u001b[0;36m  File \u001b[0;32m\"<ipython-input-2-ab684f5ccdd9>\"\u001b[0;36m, line \u001b[0;32m1\u001b[0m\n\u001b[0;31m    runtimes exp-impact-tracker: 260.8076009750366, code-carbon: 265.86331486701965\u001b[0m\n\u001b[0m               ^\u001b[0m\n\u001b[0;31mSyntaxError\u001b[0m\u001b[0;31m:\u001b[0m invalid syntax\n"
     ]
    }
   ],
   "source": [
    "runtimes exp-impact-tracker: 260.8076009750366, code-carbon: 265.86331486701965\n",
    "total power from exp-impact-tracker: 0.0013202996247527463\n",
    "energy consumed from code-carbon: 1.411232260681175e-06\n",
    "\n",
    "Output file name: /tmp/tmpl6ospgz9/2021-06-17T161331Z_carbontracker_output.log\n",
    "Standard file name: /tmp/tmpl6ospgz9/2021-06-17T161331Z_carbontracker.log\n",
    "Stopped early: False\n",
    "Measured consumption: {'epochs': 1000, 'duration (s)': 257.0, 'energy (kWh)': 0.0017519158, 'co2eq (g)': 0.5154243176, 'equivalents': {'km travelled by car': 0.004281}}\n",
    "Predicted consumption: {'epochs': 1000, 'duration (s)': 274.0, 'energy (kWh)': 0.0, 'co2eq (g)': 0.0, 'equivalents': {'km travelled by car': 0.0}}"
   ]
  },
  {
   "cell_type": "code",
   "execution_count": null,
   "metadata": {},
   "outputs": [],
   "source": [
    "runtimes exp-impact-tracker: 2231.644462108612, code-carbon: 2238.2135133743286\n",
    "total power from exp-impact-tracker: 0.012482673054415978\n",
    "energy consumed from code-carbon: 9.884264456766982e-06\n",
    "\n",
    "Output file name: /tmp/tmprnk8f7vq/2021-06-17T175641Z_carbontracker_output.log\n",
    "Standard file name: /tmp/tmprnk8f7vq/2021-06-17T175641Z_carbontracker.log\n",
    "Stopped early: False\n",
    "Measured consumption: {'epochs': 10000, 'duration (s)': 2222.0, 'energy (kWh)': 0.0148164602, 'co2eq (g)': 4.3590929254, 'equivalents': {'km travelled by car': 0.036205}}"
   ]
  },
  {
   "cell_type": "code",
   "execution_count": 2,
   "metadata": {},
   "outputs": [
    {
     "data": {
      "text/plain": "1.9183922046285018"
     },
     "execution_count": 2,
     "metadata": {},
     "output_type": "execute_result"
    }
   ],
   "source": [
    "0.00126 / 0.0006568"
   ]
  },
  {
   "cell_type": "code",
   "execution_count": null,
   "metadata": {},
   "outputs": [],
   "source": [
    "log dir: /tmp/tmp50vhh302\n",
    "\n",
    "runtimes exp-impact-tracker: 232.57437086105347, code-carbon: 238.3749248981476\n",
    "total power from exp-impact-tracker: 0.0012955583743692652\n",
    "energy consumed from code-carbon: 1.197620915347688e-06\n",
    "\n",
    "Output file name: /tmp/tmp50vhh302/2021-06-29T141638Z_carbontracker_output.log\n",
    "Standard file name: /tmp/tmp50vhh302/2021-06-29T141638Z_carbontracker.log\n",
    "Stopped early: False\n",
    "\n",
    " 'co2eq (g)': 0.4938440169, 'equivalents': {'km travelled by car': 0.004102}}\n",
    "Predicted consumption: {'epochs': 1001, 'duration (s)': 202.0, 'energy (kWh)': 0.0, 'co2eq (g)': 0.0, 'equivalents': {'km travelled by car': 0.0}}"
   ]
  },
  {
   "cell_type": "code",
   "execution_count": 1,
   "metadata": {},
   "outputs": [
    {
     "data": {
      "text/plain": "3.021483439570519"
     },
     "execution_count": 1,
     "metadata": {},
     "output_type": "execute_result"
    }
   ],
   "source": [
    "runtimes exp-impact-tracker: 257.7226688861847, code-carbon: 262.57870388031006\n",
    "total power from exp-impact-tracker: 0.001266447626712525\n",
    "energy consumed from code-carbon: 0.000656875256568"
   ]
  },
  {
   "cell_type": "code",
   "execution_count": null,
   "metadata": {},
   "outputs": [],
   "source": []
  }
 ],
 "metadata": {
  "kernelspec": {
   "display_name": "Python 3.7.9 64-bit ('green_compute': conda)",
   "name": "python379jvsc74a57bd0e5f8cee7ddba11edeefb1347c6536a4ac2b361bd4eba89a8b32d7cb85bbef9ea"
  },
  "language_info": {
   "codemirror_mode": {
    "name": "ipython",
    "version": 3
   },
   "file_extension": ".py",
   "mimetype": "text/x-python",
   "name": "python",
   "nbconvert_exporter": "python",
   "pygments_lexer": "ipython3",
   "version": "3.7.9"
  },
  "orig_nbformat": 2
 },
 "nbformat": 4,
 "nbformat_minor": 2
}