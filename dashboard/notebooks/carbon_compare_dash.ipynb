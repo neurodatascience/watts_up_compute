{
 "cells": [
  {
   "cell_type": "markdown",
   "source": [
    "# Dashboard to compare various carbon tracker results\n",
    "\n",
    "## Datasets\n",
    "- ukb pilot \n",
    "\n",
    "## Pipelines\n",
    "- FreeSurfer: recon-all (1,2,3 stages)\n",
    "- FastSurfer: FastSurferCNN (volumetric segmentation)\n",
    "\n",
    "## Monitoring metrics\n",
    "- experiment duration in hours\n",
    "- power consumption in kWh (kilo-watt-hours) \n",
    "\n",
    "## Carbon trackers\n",
    "- EIT\n",
    "- CC\n",
    "- CT"
   ],
   "metadata": {}
  },
  {
   "cell_type": "code",
   "execution_count": null,
   "source": [
    "import sys\n",
    "import numpy as np\n",
    "import pandas as pd\n",
    "\n",
    "import matplotlib as mpl\n",
    "import matplotlib.pyplot as plt\n",
    "import seaborn as sns\n",
    "\n",
    "from utils.dashboard_utils import * \n",
    "\n",
    "from experiment_impact_tracker.data_interface import DataInterface\n",
    "from experiment_impact_tracker.data_utils import *\n",
    "from experiment_impact_tracker.data_utils import (load_data_into_frame,\n",
    "                                                  load_initial_info,\n",
    "                                                  zip_data_and_info)"
   ],
   "outputs": [],
   "metadata": {}
  },
  {
   "cell_type": "code",
   "execution_count": null,
   "source": [
    "project_dir = '../../'\n",
    "\n",
    "subject_list_file = f'{project_dir}subject_lists/ukb_pilot_subjects.csv'\n",
    "\n",
    "tracker_logs_dir = f'{project_dir}tracker_output/'\n",
    "\n",
    "pipelines = ['FastSurfer/CNN','FastSurfer/recon','FreeSurfer'] # pick from: 'FastSurfer/CNN', 'FastSurfer/recon', 'FreeSurfer'\n",
    "exp_runs = ['RUN_1']\n"
   ],
   "outputs": [],
   "metadata": {}
  },
  {
   "cell_type": "markdown",
   "source": [
    "## Populate paths for different experimental runs\n",
    "- includes pipeline and run ids"
   ],
   "metadata": {}
  },
  {
   "cell_type": "code",
   "execution_count": null,
   "source": [
    "experiment_sets = []\n",
    "\n",
    "for pipe in pipelines:\n",
    "    for run in exp_runs:\n",
    "        exp_id = f'{pipe}-{run}'\n",
    "        exp_log_dir = f'{tracker_logs_dir}{pipe}/local_tests/{run}'\n",
    "        experiment_sets.append((pipe, run, exp_log_dir))\n",
    "\n",
    "experiment_sets\n"
   ],
   "outputs": [],
   "metadata": {}
  },
  {
   "cell_type": "markdown",
   "source": [
    "## Select subjects and trackers"
   ],
   "metadata": {}
  },
  {
   "cell_type": "code",
   "execution_count": null,
   "source": [
    "subject_list = ['sub-000']\n",
    "trackers = ['EIT','CC'] # pick from 'EIT', 'CC'\n",
    "read_flops = False\n",
    "EIT_tracker_summary_df_concat = pd.DataFrame()\n",
    "CC_tracker_summary_df_concat = pd.DataFrame()\n",
    "\n",
    "for pipe, run, exp_log_dir in experiment_sets:\n",
    "    print(f'Reading logs for: {pipe}')\n",
    "\n",
    "    use_cuda = False\n",
    "    if pipe == 'FastSurfer/CNN':\n",
    "        use_cuda = True\n",
    "\n",
    "    for tracker in trackers: \n",
    "        print(f'Using carbon tracker: {tracker}')\n",
    "        \n",
    "        subject_log_dirs = []\n",
    "        for sub in subject_list:\n",
    "            subject_log_dir = f'{exp_log_dir}/{sub}/{tracker}'\n",
    "            subject_log_dirs.append(subject_log_dir)\n",
    "\n",
    "        if tracker == 'EIT':\n",
    "            EIT_tracker_summary_df, flops_df, power_df = collate_EIT_tracker_data(subject_log_dirs, use_cuda, read_flops)\n",
    "            EIT_tracker_summary_df['subject_id'] = subject_list\n",
    "            EIT_tracker_summary_df['pipeline'] = pipe\n",
    "            EIT_tracker_summary_df['run'] = run\n",
    "            EIT_tracker_summary_df['tracker'] = tracker\n",
    "            col_list = list(EIT_tracker_summary_df.columns)\n",
    "            EIT_tracker_summary_df = EIT_tracker_summary_df[col_list[-4:] + col_list[:-4]]\n",
    "            EIT_tracker_summary_df_concat = EIT_tracker_summary_df_concat.append(EIT_tracker_summary_df)\n",
    "\n",
    "        if tracker == 'CC':\n",
    "            CC_tracker_summary_df = collate_CC_tracker_data(subject_log_dirs)\n",
    "            CC_tracker_summary_df['subject_id'] = subject_list\n",
    "            CC_tracker_summary_df['pipeline'] = pipe\n",
    "            CC_tracker_summary_df['run'] = run\n",
    "            CC_tracker_summary_df['tracker'] = tracker\n",
    "            col_list = list(CC_tracker_summary_df.columns)\n",
    "            CC_tracker_summary_df = CC_tracker_summary_df[col_list[-4:] + col_list[:-4]]\n",
    "            CC_tracker_summary_df_concat = CC_tracker_summary_df_concat.append(CC_tracker_summary_df)"
   ],
   "outputs": [],
   "metadata": {}
  },
  {
   "cell_type": "code",
   "execution_count": null,
   "source": [
    "EIT_tracker_summary_df_concat"
   ],
   "outputs": [],
   "metadata": {}
  },
  {
   "cell_type": "code",
   "execution_count": null,
   "source": [
    "CC_tracker_summary_df_concat"
   ],
   "outputs": [],
   "metadata": {}
  }
 ],
 "metadata": {
  "orig_nbformat": 4,
  "language_info": {
   "name": "python",
   "version": "3.7.0",
   "mimetype": "text/x-python",
   "codemirror_mode": {
    "name": "ipython",
    "version": 3
   },
   "pygments_lexer": "ipython3",
   "nbconvert_exporter": "python",
   "file_extension": ".py"
  },
  "kernelspec": {
   "name": "python3",
   "display_name": "Python 3.7.0 64-bit ('green_compute': venv)"
  },
  "interpreter": {
   "hash": "96e4927380308772faf387ce1ad6de9eaed4a7d7aadcf2622a8269a7d5f191c8"
  }
 },
 "nbformat": 4,
 "nbformat_minor": 2
}