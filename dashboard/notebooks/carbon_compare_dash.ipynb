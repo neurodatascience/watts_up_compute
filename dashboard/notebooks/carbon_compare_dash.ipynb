{
 "cells": [
  {
   "cell_type": "markdown",
   "source": [
    "# Dashboard to compare various carbon tracker results\n",
    "\n",
    "## Datasets\n",
    "- ukb pilot \n",
    "\n",
    "## Pipelines\n",
    "- FreeSurfer: recon-all (1,2,3 stages)\n",
    "- FastSurfer: FastSurferCNN (volumetric segmentation)\n",
    "\n",
    "## Monitoring metrics\n",
    "- experiment duration in hours\n",
    "- power consumption in kWh (kilo-watt-hours) \n",
    "\n",
    "## Carbon trackers\n",
    "- EIT\n",
    "- CC\n",
    "- CT"
   ],
   "metadata": {}
  },
  {
   "cell_type": "code",
   "execution_count": 1,
   "source": [
    "import sys\n",
    "import numpy as np\n",
    "import pandas as pd\n",
    "\n",
    "import matplotlib as mpl\n",
    "import matplotlib.pyplot as plt\n",
    "import seaborn as sns\n",
    "\n",
    "from utils.dashboard_utils import * \n",
    "\n",
    "from experiment_impact_tracker.data_interface import DataInterface\n",
    "from experiment_impact_tracker.data_utils import *\n",
    "from experiment_impact_tracker.data_utils import (load_data_into_frame,\n",
    "                                                  load_initial_info,\n",
    "                                                  zip_data_and_info)"
   ],
   "outputs": [
    {
     "output_type": "stream",
     "name": "stdout",
     "text": [
      "loading region bounding boxes for computing carbon emissions region, this may take a moment...\n",
      " 454/454... rate=364.28 Hz, eta=0:00:00, total=0:00:01, wall=14:47 EST\n",
      "Done!\n"
     ]
    },
    {
     "output_type": "stream",
     "name": "stderr",
     "text": [
      "/home/nikhil/projects/green_comp_neuro/experiment-impact-tracker/experiment_impact_tracker/data_interface.py:37: FutureWarning: Passing a negative integer is deprecated in version 1.0 and will not be supported in future version. Instead, use None to not limit the column width.\n",
      "  pd.set_option(\"display.max_colwidth\", -1)\n"
     ]
    }
   ],
   "metadata": {}
  },
  {
   "cell_type": "code",
   "execution_count": 2,
   "source": [
    "project_dir = '../../'\n",
    "\n",
    "subject_list_file = f'{project_dir}subject_lists/ukb_pilot_subjects.csv'\n",
    "\n",
    "tracker_logs_dir = f'{project_dir}tracker_output/'\n",
    "\n",
    "pipelines = ['FastSurfer/CNN'] # pick from: 'FastSurfer/CNN', 'FastSurfer/recon', 'FreeSurfer'\n",
    "exp_runs = ['RUN_1']\n"
   ],
   "outputs": [],
   "metadata": {}
  },
  {
   "cell_type": "markdown",
   "source": [
    "## Populate paths for different experimental runs\n",
    "- includes pipeline and run ids"
   ],
   "metadata": {}
  },
  {
   "cell_type": "code",
   "execution_count": 3,
   "source": [
    "experiment_sets = {}\n",
    "\n",
    "for pipe in pipelines:\n",
    "    for run in exp_runs:\n",
    "        exp_id = f'{pipe}-{run}'\n",
    "        exp_log_dir = f'{tracker_logs_dir}{pipe}/local_tests/{run}/'\n",
    "        experiment_sets[exp_id] = exp_log_dir\n",
    "\n",
    "experiment_sets\n"
   ],
   "outputs": [
    {
     "output_type": "execute_result",
     "data": {
      "text/plain": [
       "{'FastSurfer/CNN-RUN_1': '../../tracker_output/FastSurfer/CNN/local_tests/RUN_1/'}"
      ]
     },
     "metadata": {},
     "execution_count": 3
    }
   ],
   "metadata": {}
  },
  {
   "cell_type": "markdown",
   "source": [
    "## Select subjects and trackers"
   ],
   "metadata": {}
  },
  {
   "cell_type": "code",
   "execution_count": 4,
   "source": [
    "subject_list = ['000']\n",
    "trackers = ['EIT'] # pick from 'EIT', 'CT'\n",
    "read_flops = False\n",
    "\n",
    "for pipe, exp_log_dir in experiment_sets.items():\n",
    "    print(f'Reading logs for: {pipe}')\n",
    "\n",
    "    use_cuda = False\n",
    "    if pipe == 'FastSurfer/CNN':\n",
    "        use_cuda = True\n",
    "\n",
    "    for tracker in trackers: \n",
    "        print(f'Using carbon tracker: {pipe}')\n",
    "        \n",
    "        subject_log_dirs = []\n",
    "        for sub in subject_list:\n",
    "            subdir = f'{sub}/{tracker}'\n",
    "            subject_log_dirs.append(subdir)\n",
    "\n",
    "        tracker_summary_df_concat, flops_df_concat, power_df_concat = collate_ETI_tracker_data(exp_log_dir, subject_log_dirs, use_cuda, read_flops)\n",
    "        tracker_summary_df_concat['pipeline'] = pipe\n",
    "        tracker_summary_df_concat['tracker'] = tracker\n",
    "\n",
    "        "
   ],
   "outputs": [
    {
     "output_type": "stream",
     "name": "stdout",
     "text": [
      "Reading logs for: FastSurfer/CNN-RUN_1\n",
      "Using carbon tracker: FastSurfer/CNN-RUN_1\n"
     ]
    },
    {
     "output_type": "stream",
     "name": "stderr",
     "text": [
      "/home/nikhil/projects/green_comp_neuro/experiment-impact-tracker/experiment_impact_tracker/data_utils.py:30: FutureWarning: pandas.io.json.json_normalize is deprecated, use pandas.json_normalize instead\n",
      "  return json_normalize(json_array, max_level=max_level), json_array\n"
     ]
    }
   ],
   "metadata": {}
  },
  {
   "cell_type": "code",
   "execution_count": 5,
   "source": [
    "tracker_summary_df_concat"
   ],
   "outputs": [
    {
     "output_type": "execute_result",
     "data": {
      "text/plain": [
       "  experiment_name  total_power  total_carbon   PUE  total_duration_papi  \\\n",
       "0  000/EIT         0.068971     0.027377      1.58  3.115128              \n",
       "\n",
       "   total_duration_impact_tracker              pipeline tracker  \n",
       "0  3.116415                       FastSurfer/CNN-RUN_1  EIT     "
      ],
      "text/html": [
       "<div>\n",
       "<style scoped>\n",
       "    .dataframe tbody tr th:only-of-type {\n",
       "        vertical-align: middle;\n",
       "    }\n",
       "\n",
       "    .dataframe tbody tr th {\n",
       "        vertical-align: top;\n",
       "    }\n",
       "\n",
       "    .dataframe thead th {\n",
       "        text-align: right;\n",
       "    }\n",
       "</style>\n",
       "<table border=\"1\" class=\"dataframe\">\n",
       "  <thead>\n",
       "    <tr style=\"text-align: right;\">\n",
       "      <th></th>\n",
       "      <th>experiment_name</th>\n",
       "      <th>total_power</th>\n",
       "      <th>total_carbon</th>\n",
       "      <th>PUE</th>\n",
       "      <th>total_duration_papi</th>\n",
       "      <th>total_duration_impact_tracker</th>\n",
       "      <th>pipeline</th>\n",
       "      <th>tracker</th>\n",
       "    </tr>\n",
       "  </thead>\n",
       "  <tbody>\n",
       "    <tr>\n",
       "      <th>0</th>\n",
       "      <td>000/EIT</td>\n",
       "      <td>0.068971</td>\n",
       "      <td>0.027377</td>\n",
       "      <td>1.58</td>\n",
       "      <td>3.115128</td>\n",
       "      <td>3.116415</td>\n",
       "      <td>FastSurfer/CNN-RUN_1</td>\n",
       "      <td>EIT</td>\n",
       "    </tr>\n",
       "  </tbody>\n",
       "</table>\n",
       "</div>"
      ]
     },
     "metadata": {},
     "execution_count": 5
    }
   ],
   "metadata": {}
  },
  {
   "cell_type": "code",
   "execution_count": null,
   "source": [],
   "outputs": [],
   "metadata": {}
  }
 ],
 "metadata": {
  "orig_nbformat": 4,
  "language_info": {
   "name": "python",
   "version": "3.7.0",
   "mimetype": "text/x-python",
   "codemirror_mode": {
    "name": "ipython",
    "version": 3
   },
   "pygments_lexer": "ipython3",
   "nbconvert_exporter": "python",
   "file_extension": ".py"
  },
  "kernelspec": {
   "name": "python3",
   "display_name": "Python 3.7.0 64-bit ('green_compute': venv)"
  },
  "interpreter": {
   "hash": "96e4927380308772faf387ce1ad6de9eaed4a7d7aadcf2622a8269a7d5f191c8"
  }
 },
 "nbformat": 4,
 "nbformat_minor": 2
}