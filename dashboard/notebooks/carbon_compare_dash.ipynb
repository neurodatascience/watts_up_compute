{
 "cells": [
  {
   "cell_type": "markdown",
   "source": [
    "# Dashboard to compare various carbon tracker results\n",
    "\n",
    "## Datasets\n",
    "- ukb pilot \n",
    "\n",
    "## Pipelines\n",
    "- FreeSurfer: recon-all (1,2,3 stages)\n",
    "- FastSurfer: FastSurferCNN (volumetric segmentation)\n",
    "\n",
    "## Monitoring metrics\n",
    "- experiment duration in hours\n",
    "- power consumption in kWh (kilo-watt-hours) \n",
    "\n",
    "## Carbon trackers\n",
    "- EIT\n",
    "- CC\n",
    "- CT"
   ],
   "metadata": {}
  },
  {
   "cell_type": "code",
   "execution_count": 1,
   "source": [
    "import sys\n",
    "import numpy as np\n",
    "import pandas as pd\n",
    "\n",
    "import matplotlib as mpl\n",
    "import matplotlib.pyplot as plt\n",
    "import seaborn as sns\n",
    "\n",
    "from utils.dashboard_utils import * \n",
    "\n",
    "from experiment_impact_tracker.data_interface import DataInterface\n",
    "from experiment_impact_tracker.data_utils import *\n",
    "from experiment_impact_tracker.data_utils import (load_data_into_frame,\n",
    "                                                  load_initial_info,\n",
    "                                                  zip_data_and_info)"
   ],
   "outputs": [
    {
     "output_type": "stream",
     "name": "stdout",
     "text": [
      "loading region bounding boxes for computing carbon emissions region, this may take a moment...\n",
      " 454/454... rate=464.00 Hz, eta=0:00:00, total=0:00:00, wall=15:19 EST\n",
      "Done!\n"
     ]
    },
    {
     "output_type": "stream",
     "name": "stderr",
     "text": [
      "/home/nikhil/projects/green_comp_neuro/experiment-impact-tracker/experiment_impact_tracker/data_interface.py:37: FutureWarning: Passing a negative integer is deprecated in version 1.0 and will not be supported in future version. Instead, use None to not limit the column width.\n",
      "  pd.set_option(\"display.max_colwidth\", -1)\n"
     ]
    }
   ],
   "metadata": {}
  },
  {
   "cell_type": "code",
   "execution_count": 2,
   "source": [
    "project_dir = '../../'\n",
    "\n",
    "subject_list_file = f'{project_dir}subject_lists/ukb_pilot_subjects.csv'\n",
    "\n",
    "tracker_logs_dir = f'{project_dir}tracker_output/'\n",
    "\n",
    "pipelines = ['FastSurfer/CNN','FastSurfer/recon'] # pick from: 'FastSurfer/CNN', 'FastSurfer/recon', 'FreeSurfer'\n",
    "exp_runs = ['RUN_1']\n"
   ],
   "outputs": [],
   "metadata": {}
  },
  {
   "cell_type": "markdown",
   "source": [
    "## Populate paths for different experimental runs\n",
    "- includes pipeline and run ids"
   ],
   "metadata": {}
  },
  {
   "cell_type": "code",
   "execution_count": 3,
   "source": [
    "experiment_sets = []\n",
    "\n",
    "for pipe in pipelines:\n",
    "    for run in exp_runs:\n",
    "        exp_id = f'{pipe}-{run}'\n",
    "        exp_log_dir = f'{tracker_logs_dir}{pipe}/local_tests/{run}'\n",
    "        experiment_sets.append((pipe, run, exp_log_dir))\n",
    "\n",
    "experiment_sets\n"
   ],
   "outputs": [
    {
     "output_type": "execute_result",
     "data": {
      "text/plain": [
       "[('FastSurfer/CNN',\n",
       "  'RUN_1',\n",
       "  '../../tracker_output/FastSurfer/CNN/local_tests/RUN_1'),\n",
       " ('FastSurfer/recon',\n",
       "  'RUN_1',\n",
       "  '../../tracker_output/FastSurfer/recon/local_tests/RUN_1')]"
      ]
     },
     "metadata": {},
     "execution_count": 3
    }
   ],
   "metadata": {}
  },
  {
   "cell_type": "markdown",
   "source": [
    "## Select subjects and trackers"
   ],
   "metadata": {}
  },
  {
   "cell_type": "code",
   "execution_count": 4,
   "source": [
    "subject_list = ['sub-000']\n",
    "trackers = ['EIT','CC'] # pick from 'EIT', 'CC'\n",
    "read_flops = False\n",
    "EIT_tracker_summary_df_concat = pd.DataFrame()\n",
    "CC_tracker_summary_df_concat = pd.DataFrame()\n",
    "\n",
    "for pipe, run, exp_log_dir in experiment_sets:\n",
    "    print(f'Reading logs for: {pipe}')\n",
    "\n",
    "    use_cuda = False\n",
    "    if pipe == 'FastSurfer/CNN':\n",
    "        use_cuda = True\n",
    "\n",
    "    for tracker in trackers: \n",
    "        print(f'Using carbon tracker: {tracker}')\n",
    "        \n",
    "        subject_log_dirs = []\n",
    "        for sub in subject_list:\n",
    "            subject_log_dir = f'{exp_log_dir}/{sub}/{tracker}'\n",
    "            subject_log_dirs.append(subject_log_dir)\n",
    "\n",
    "        if tracker == 'EIT':\n",
    "            EIT_tracker_summary_df, flops_df, power_df = collate_EIT_tracker_data(subject_log_dirs, use_cuda, read_flops)\n",
    "            EIT_tracker_summary_df['subject_id'] = subject_list\n",
    "            EIT_tracker_summary_df['pipeline'] = pipe\n",
    "            EIT_tracker_summary_df['run'] = run\n",
    "            EIT_tracker_summary_df['tracker'] = tracker\n",
    "            col_list = list(EIT_tracker_summary_df.columns)\n",
    "            EIT_tracker_summary_df = EIT_tracker_summary_df[col_list[-4:] + col_list[:-4]]\n",
    "            EIT_tracker_summary_df_concat = EIT_tracker_summary_df_concat.append(EIT_tracker_summary_df)\n",
    "\n",
    "        if tracker == 'CC':\n",
    "            CC_tracker_summary_df = collate_CC_tracker_data(subject_log_dirs)\n",
    "            CC_tracker_summary_df['subject_id'] = subject_list\n",
    "            CC_tracker_summary_df['pipeline'] = pipe\n",
    "            CC_tracker_summary_df['run'] = run\n",
    "            CC_tracker_summary_df['tracker'] = tracker\n",
    "            col_list = list(CC_tracker_summary_df.columns)\n",
    "            CC_tracker_summary_df = CC_tracker_summary_df[col_list[-4:] + col_list[:-4]]\n",
    "            CC_tracker_summary_df_concat = CC_tracker_summary_df_concat.append(CC_tracker_summary_df)"
   ],
   "outputs": [
    {
     "output_type": "stream",
     "name": "stdout",
     "text": [
      "Reading logs for: FastSurfer/CNN\n",
      "Using carbon tracker: EIT\n",
      "Using carbon tracker: CC\n",
      "Reading logs for: FastSurfer/recon\n",
      "Using carbon tracker: EIT\n",
      "Using carbon tracker: CC\n"
     ]
    },
    {
     "output_type": "stream",
     "name": "stderr",
     "text": [
      "/home/nikhil/projects/green_comp_neuro/experiment-impact-tracker/experiment_impact_tracker/data_utils.py:30: FutureWarning: pandas.io.json.json_normalize is deprecated, use pandas.json_normalize instead\n",
      "  return json_normalize(json_array, max_level=max_level), json_array\n"
     ]
    }
   ],
   "metadata": {}
  },
  {
   "cell_type": "code",
   "execution_count": 5,
   "source": [
    "EIT_tracker_summary_df_concat"
   ],
   "outputs": [
    {
     "output_type": "execute_result",
     "data": {
      "text/plain": [
       "  subject_id          pipeline    run tracker   total_power  total_carbon  \\\n",
       "0  sub-000    FastSurfer/CNN    RUN_1  EIT     2.247533e-03  1.016117e-04   \n",
       "0  sub-000    FastSurfer/recon  RUN_1  EIT     2.258673e-07  6.776018e-09   \n",
       "\n",
       "    PUE  total_duration_papi  total_duration_impact_tracker  \n",
       "0  1.58  0.013778             0.017324                       \n",
       "0  1.58  0.000000             0.001389                       "
      ],
      "text/html": [
       "<div>\n",
       "<style scoped>\n",
       "    .dataframe tbody tr th:only-of-type {\n",
       "        vertical-align: middle;\n",
       "    }\n",
       "\n",
       "    .dataframe tbody tr th {\n",
       "        vertical-align: top;\n",
       "    }\n",
       "\n",
       "    .dataframe thead th {\n",
       "        text-align: right;\n",
       "    }\n",
       "</style>\n",
       "<table border=\"1\" class=\"dataframe\">\n",
       "  <thead>\n",
       "    <tr style=\"text-align: right;\">\n",
       "      <th></th>\n",
       "      <th>subject_id</th>\n",
       "      <th>pipeline</th>\n",
       "      <th>run</th>\n",
       "      <th>tracker</th>\n",
       "      <th>total_power</th>\n",
       "      <th>total_carbon</th>\n",
       "      <th>PUE</th>\n",
       "      <th>total_duration_papi</th>\n",
       "      <th>total_duration_impact_tracker</th>\n",
       "    </tr>\n",
       "  </thead>\n",
       "  <tbody>\n",
       "    <tr>\n",
       "      <th>0</th>\n",
       "      <td>sub-000</td>\n",
       "      <td>FastSurfer/CNN</td>\n",
       "      <td>RUN_1</td>\n",
       "      <td>EIT</td>\n",
       "      <td>2.247533e-03</td>\n",
       "      <td>1.016117e-04</td>\n",
       "      <td>1.58</td>\n",
       "      <td>0.013778</td>\n",
       "      <td>0.017324</td>\n",
       "    </tr>\n",
       "    <tr>\n",
       "      <th>0</th>\n",
       "      <td>sub-000</td>\n",
       "      <td>FastSurfer/recon</td>\n",
       "      <td>RUN_1</td>\n",
       "      <td>EIT</td>\n",
       "      <td>2.258673e-07</td>\n",
       "      <td>6.776018e-09</td>\n",
       "      <td>1.58</td>\n",
       "      <td>0.000000</td>\n",
       "      <td>0.001389</td>\n",
       "    </tr>\n",
       "  </tbody>\n",
       "</table>\n",
       "</div>"
      ]
     },
     "metadata": {},
     "execution_count": 5
    }
   ],
   "metadata": {}
  },
  {
   "cell_type": "code",
   "execution_count": 6,
   "source": [
    "CC_tracker_summary_df_concat"
   ],
   "outputs": [
    {
     "output_type": "execute_result",
     "data": {
      "text/plain": [
       "  subject_id          pipeline    run tracker            timestamp  \\\n",
       "0  sub-000    FastSurfer/CNN    RUN_1  CC      2021-07-22T21:46:24   \n",
       "0  sub-000    FastSurfer/recon  RUN_1  CC      2021-08-10T11:41:02   \n",
       "\n",
       "  project_name      duration     emissions  energy_consumed   country_name  \\\n",
       "0  codecarbon   11218.454384  1.340145e-02  2.917514e-02     United States   \n",
       "0  codecarbon   3.055779      1.940474e-08  4.224438e-08     United States   \n",
       "\n",
       "  country_iso_code    region on_cloud  cloud_provider  cloud_region  \n",
       "0  USA              maryland  N       NaN             NaN            \n",
       "0  USA              maryland  N       NaN             NaN            "
      ],
      "text/html": [
       "<div>\n",
       "<style scoped>\n",
       "    .dataframe tbody tr th:only-of-type {\n",
       "        vertical-align: middle;\n",
       "    }\n",
       "\n",
       "    .dataframe tbody tr th {\n",
       "        vertical-align: top;\n",
       "    }\n",
       "\n",
       "    .dataframe thead th {\n",
       "        text-align: right;\n",
       "    }\n",
       "</style>\n",
       "<table border=\"1\" class=\"dataframe\">\n",
       "  <thead>\n",
       "    <tr style=\"text-align: right;\">\n",
       "      <th></th>\n",
       "      <th>subject_id</th>\n",
       "      <th>pipeline</th>\n",
       "      <th>run</th>\n",
       "      <th>tracker</th>\n",
       "      <th>timestamp</th>\n",
       "      <th>project_name</th>\n",
       "      <th>duration</th>\n",
       "      <th>emissions</th>\n",
       "      <th>energy_consumed</th>\n",
       "      <th>country_name</th>\n",
       "      <th>country_iso_code</th>\n",
       "      <th>region</th>\n",
       "      <th>on_cloud</th>\n",
       "      <th>cloud_provider</th>\n",
       "      <th>cloud_region</th>\n",
       "    </tr>\n",
       "  </thead>\n",
       "  <tbody>\n",
       "    <tr>\n",
       "      <th>0</th>\n",
       "      <td>sub-000</td>\n",
       "      <td>FastSurfer/CNN</td>\n",
       "      <td>RUN_1</td>\n",
       "      <td>CC</td>\n",
       "      <td>2021-07-22T21:46:24</td>\n",
       "      <td>codecarbon</td>\n",
       "      <td>11218.454384</td>\n",
       "      <td>1.340145e-02</td>\n",
       "      <td>2.917514e-02</td>\n",
       "      <td>United States</td>\n",
       "      <td>USA</td>\n",
       "      <td>maryland</td>\n",
       "      <td>N</td>\n",
       "      <td>NaN</td>\n",
       "      <td>NaN</td>\n",
       "    </tr>\n",
       "    <tr>\n",
       "      <th>0</th>\n",
       "      <td>sub-000</td>\n",
       "      <td>FastSurfer/recon</td>\n",
       "      <td>RUN_1</td>\n",
       "      <td>CC</td>\n",
       "      <td>2021-08-10T11:41:02</td>\n",
       "      <td>codecarbon</td>\n",
       "      <td>3.055779</td>\n",
       "      <td>1.940474e-08</td>\n",
       "      <td>4.224438e-08</td>\n",
       "      <td>United States</td>\n",
       "      <td>USA</td>\n",
       "      <td>maryland</td>\n",
       "      <td>N</td>\n",
       "      <td>NaN</td>\n",
       "      <td>NaN</td>\n",
       "    </tr>\n",
       "  </tbody>\n",
       "</table>\n",
       "</div>"
      ]
     },
     "metadata": {},
     "execution_count": 6
    }
   ],
   "metadata": {}
  }
 ],
 "metadata": {
  "orig_nbformat": 4,
  "language_info": {
   "name": "python",
   "version": "3.7.0",
   "mimetype": "text/x-python",
   "codemirror_mode": {
    "name": "ipython",
    "version": 3
   },
   "pygments_lexer": "ipython3",
   "nbconvert_exporter": "python",
   "file_extension": ".py"
  },
  "kernelspec": {
   "name": "python3",
   "display_name": "Python 3.7.0 64-bit ('green_compute': venv)"
  },
  "interpreter": {
   "hash": "96e4927380308772faf387ce1ad6de9eaed4a7d7aadcf2622a8269a7d5f191c8"
  }
 },
 "nbformat": 4,
 "nbformat_minor": 2
}